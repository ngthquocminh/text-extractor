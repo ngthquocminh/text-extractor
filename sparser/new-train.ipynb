{
 "cells": [
  {
   "cell_type": "code",
   "execution_count": 170,
   "id": "c700a671",
   "metadata": {},
   "outputs": [],
   "source": [
    "traindata_file = \"traindata_x_2.json\"\n",
    "model=\"vi_core_news_lg\"\n",
    "output_dir='/output'\n",
    "prefix_name = \"saller_xx\"\n",
    "n_iter=30\n",
    "n_data =15000\n"
   ]
  },
  {
   "cell_type": "code",
   "execution_count": 171,
   "id": "6932c746",
   "metadata": {},
   "outputs": [],
   "source": [
    "import os\n",
    "import json\n",
    "import spacy\n",
    "from pyvi import ViTokenizer, ViPosTagger\n",
    "from spacy.tokens import DocBin\n",
    "from tqdm import tqdm\n",
    "import random\n"
   ]
  },
  {
   "cell_type": "code",
   "execution_count": 172,
   "id": "2c99529e",
   "metadata": {},
   "outputs": [],
   "source": [
    "def load_data(file):\n",
    "    with open(traindata_file, 'r', encoding=\"utf8\") as f:\n",
    "        return [json.loads(line) for line in f.readlines()]"
   ]
  },
  {
   "cell_type": "code",
   "execution_count": 173,
   "id": "c5f5c4c4",
   "metadata": {},
   "outputs": [],
   "source": [
    "data = load_data(traindata_file)[0]"
   ]
  },
  {
   "cell_type": "code",
   "execution_count": 174,
   "id": "1ee7e0c6",
   "metadata": {},
   "outputs": [
    {
     "data": {
      "text/plain": [
       "{'content': '15/05/2021\\nMở Bán DỰ ÁN NHÀ Ở XÃ HỘI Thượng Thanh, Long Biên giá từ 16 triệu Miên phí HỒ S\\nLoại tin rao Bán căn hộ chung cư\\nHà Nội\\nGia Quất\\nLong Biên\\nTên liên hệ Nguyễn Phượng\\nGiá 580 Triệu\\nGia Quất - Phường Ngọc Lâm -  Long Biên -  Hà Nội\\nDiện tích 37\\n1\\nMặt tiền 4\\n0981922984',\n",
       " 'annotation': [{'label': ['date'],\n",
       "   'points': [{'start': 0, 'end': 10, 'text': '15/05/2021'}]},\n",
       "  {'label': ['title'],\n",
       "   'points': [{'start': 11,\n",
       "     'end': 90,\n",
       "     'text': 'Mở Bán DỰ ÁN NHÀ Ở XÃ HỘI Thượng Thanh, Long Biên giá từ 16 triệu Miên phí HỒ S'}]},\n",
       "  {'label': ['category'],\n",
       "   'points': [{'start': 91,\n",
       "     'end': 123,\n",
       "     'text': 'Loại tin rao Bán căn hộ chung cư'}]},\n",
       "  {'label': ['region'],\n",
       "   'points': [{'start': 124, 'end': 131, 'text': 'Hà Nội'}]},\n",
       "  {'label': ['street'],\n",
       "   'points': [{'start': 132, 'end': 140, 'text': 'Gia Quất'}]},\n",
       "  {'label': ['district'],\n",
       "   'points': [{'start': 141, 'end': 150, 'text': 'Long Biên'}]},\n",
       "  {'label': ['user'],\n",
       "   'points': [{'start': 151,\n",
       "     'end': 176,\n",
       "     'text': 'Tên liên hệ Nguyễn Phượng'}]},\n",
       "  {'label': ['price'],\n",
       "   'points': [{'start': 177, 'end': 190, 'text': 'Giá 580 Triệu'}]},\n",
       "  {'label': ['address'],\n",
       "   'points': [{'start': 191,\n",
       "     'end': 241,\n",
       "     'text': 'Gia Quất - Phường Ngọc Lâm -  Long Biên -  Hà Nội'}]},\n",
       "  {'label': ['surface'],\n",
       "   'points': [{'start': 242, 'end': 254, 'text': 'Diện tích 37'}]},\n",
       "  {'label': ['toilets'], 'points': [{'start': 255, 'end': 256, 'text': '1'}]},\n",
       "  {'label': ['width'],\n",
       "   'points': [{'start': 257, 'end': 267, 'text': 'Mặt tiền 4'}]},\n",
       "  {'label': ['phone'],\n",
       "   'points': [{'start': 268, 'end': 278, 'text': '0981922984'}]}],\n",
       " 'extras': None,\n",
       " 'meta_data': {}}"
      ]
     },
     "execution_count": 174,
     "metadata": {},
     "output_type": "execute_result"
    }
   ],
   "source": [
    "data"
   ]
  },
  {
   "cell_type": "code",
   "execution_count": 175,
   "id": "67f8e8c7",
   "metadata": {},
   "outputs": [
    {
     "name": "stdout",
     "output_type": "stream",
     "text": [
      "('15/05/2021\\nMở Bán DỰ ÁN NHÀ Ở XÃ HỘI Thượng Thanh, Long Biên giá từ 16 triệu Miên phí HỒ S\\nLoại tin rao Bán căn hộ chung cư\\nHà Nội\\nGia Quất\\nLong Biên\\nTên liên hệ Nguyễn Phượng\\nGiá 580 Triệu\\nGia Quất - Phường Ngọc Lâm -  Long Biên -  Hà Nội\\nDiện tích 37\\n1\\nMặt tiền 4\\n0981922984', {'entities': [(151, 176, 'user')]})\n"
     ]
    }
   ],
   "source": [
    "\n",
    "def convert_data(traindata_file):\n",
    "    try:\n",
    "        training_data = []\n",
    "        lines = load_data(traindata_file)[0:1000]\n",
    "        for line in lines:\n",
    "            data = line\n",
    "\n",
    "            text = data['content']\n",
    "            entities = []\n",
    "            if data['annotation'] is not None:\n",
    "                for annotation in data['annotation']:\n",
    "                    # only a single point in text annotation.\n",
    "                    point = annotation['points'][0]\n",
    "                    labels = annotation['label']\n",
    "                    # handle both list of labels or a single label.\n",
    "                    if not isinstance(labels, list):\n",
    "                        labels = [labels]\n",
    "\n",
    "                    for label in labels:\n",
    "                        # dataturks indices are both inclusive [start, end]\n",
    "                        # but spacy is not [start, end)\n",
    "                        check = True\n",
    "#                         for s, e, l in entities:\n",
    "#                             if not (point['start'] < point['end'] < s < e or point['start'] > point['end'] > s > e):\n",
    "#                                 check = False\n",
    "#                                 break\n",
    "                                \n",
    "                        if check and label in [\"user\"]:      \n",
    "                            entities.append((\n",
    "                                point['start'],\n",
    "                                point['end'], # + 1,\n",
    "                                label\n",
    "                            ))\n",
    "\n",
    "            training_data.append((text, {\"entities\": entities}))\n",
    "        return training_data\n",
    "    except Exception:\n",
    "#         logging.exception(\"Unable to process \" + traindata_file)\n",
    "        return None\n",
    "\n",
    "SPACY_DATA = convert_data(traindata_file)\n",
    "print(SPACY_DATA[0])"
   ]
  },
  {
   "cell_type": "code",
   "execution_count": 176,
   "id": "5cb8bc8a",
   "metadata": {},
   "outputs": [],
   "source": [
    "\n",
    "from spacy.training import Example\n",
    "from spacy.util import minibatch\n",
    "\n",
    "TRAIN_DATA = SPACY_DATA[0:n_data]\n",
    "\n",
    "nlp = spacy.blank(\"vi\")\n",
    "# nlp = spacy.load('model')\n",
    "\n",
    "examples = []\n",
    "for text, annots in TRAIN_DATA:\n",
    "    doc = nlp.make_doc(text)\n",
    "#     print(doc)\n",
    "    examples.append(Example.from_dict(doc, annots))\n",
    "    \n",
    "# nlp = spacy.blank(\"vi\")\n",
    "\n",
    "if \"ner\" not in nlp.pipe_names:\n",
    "    nlp.add_pipe(\"ner\", last=True)\n",
    "\n",
    "# ner = nlp.get_pipe(\"ner\")\n",
    "# for _, annotations in TRAIN_DATA:\n",
    "#     for ent in annotations.get('entities'):\n",
    "#         ner.add_label(ent[2])\n",
    "# move_names = list(ner.move_names)\n",
    "# print(move_names) \n",
    "\n",
    "other_pipes = [pipe for pipe in nlp.pipe_names if pipe != \"ner\"]\n",
    "\n",
    "\n",
    "        \n"
   ]
  },
  {
   "cell_type": "code",
   "execution_count": 177,
   "id": "f52c96de",
   "metadata": {},
   "outputs": [
    {
     "name": "stdout",
     "output_type": "stream",
     "text": [
      "Iter  0\n",
      "Losses:  {'ner': 3526.070485155662}\n",
      "Iter  1\n",
      "Losses:  {'ner': 60.84074593138466}\n",
      "Iter  2\n",
      "Losses:  {'ner': 35.03432810550497}\n",
      "Iter  3\n",
      "Losses:  {'ner': 13.949434752498027}\n",
      "Iter  4\n",
      "Losses:  {'ner': 11.491632747470918}\n",
      "Iter  5\n",
      "Losses:  {'ner': 15.554249184000733}\n",
      "Iter  6\n",
      "Losses:  {'ner': 14.885500753347804}\n",
      "Iter  7\n",
      "Losses:  {'ner': 2.7855378013278154}\n",
      "Iter  8\n",
      "Losses:  {'ner': 6.440996213512129}\n",
      "Iter  9\n",
      "Losses:  {'ner': 0.18970157666832135}\n",
      "Iter  10\n",
      "Losses:  {'ner': 2.2328461483942355}\n",
      "Iter  11\n",
      "Losses:  {'ner': 0.00016730402688322843}\n",
      "Iter  12\n",
      "Losses:  {'ner': 6.119175906316626e-07}\n",
      "Iter  13\n",
      "Losses:  {'ner': 3.670075585572401e-07}\n",
      "Iter  14\n",
      "Losses:  {'ner': 2.6069432311147736e-06}\n",
      "Iter  15\n",
      "Losses:  {'ner': 9.711238127676789e-08}\n",
      "Iter  16\n",
      "Losses:  {'ner': 3.086598485334493e-08}\n",
      "Iter  17\n",
      "Losses:  {'ner': 7.884871178078166e-08}\n",
      "Iter  18\n",
      "Losses:  {'ner': 4.0759812612512846e-08}\n",
      "Iter  19\n",
      "Losses:  {'ner': 3.0288398225869105e-08}\n",
      "Iter  20\n",
      "Losses:  {'ner': 1.2443710494717027e-07}\n",
      "Iter  21\n",
      "Losses:  {'ner': 1.4304247737434598e-08}\n",
      "Iter  22\n",
      "Losses:  {'ner': 2.8159452181584193e-08}\n",
      "Iter  23\n",
      "Losses:  {'ner': 2.10236339327725e-08}\n",
      "Iter  24\n",
      "Losses:  {'ner': 3.908564607253817e-08}\n",
      "Iter  25\n",
      "Losses:  {'ner': 6.650947412905573e-08}\n",
      "Iter  26\n",
      "Losses:  {'ner': 8.385610639299281e-09}\n",
      "Iter  27\n",
      "Losses:  {'ner': 3.4640815505770747e-09}\n",
      "Iter  28\n",
      "Losses:  {'ner': 2.4765615311300817e-09}\n",
      "Iter  29\n",
      "Losses:  {'ner': 2.535823130693616e-08}\n"
     ]
    }
   ],
   "source": [
    "with nlp.disable_pipes(*other_pipes):\n",
    "    nlp.initialize(lambda: examples)\n",
    "    for i in range(n_iter):\n",
    "        print(\"Iter \", i)\n",
    "        random.shuffle(examples)\n",
    "        losses={}\n",
    "        for batch in minibatch(examples, size=8):\n",
    "            nlp.update(batch,losses=losses)\n",
    "        print(\"Losses: \", losses)\n",
    "        "
   ]
  },
  {
   "cell_type": "code",
   "execution_count": 179,
   "id": "f6a0a828",
   "metadata": {},
   "outputs": [
    {
     "name": "stdout",
     "output_type": "stream",
     "text": [
      " >  user Tên liên_hệ: Phan_Thanh_Tùng Tèo_Tí\n"
     ]
    }
   ],
   "source": [
    "# nlp.to_disk(\"./en_example_pipeline\")\n",
    "# test_text = \"\"\"BÁN GẤP NHÀ PHỐ ĐÀO TẤN, DIỆN TÍCH 50M2, XÂY 4 TẦNG, MẶT TIỀN 5.5M, GIÁ 5.3 Khu Vực: Bán Nhà Riêng Tại Đường Đào Tấn - Phường Cống Vị - Ba Đình - Hà Nội Giá: 5,3 Tỷ  Diện tích: 50 m² hôm nay Thông tin mô tả + Nhà nằm trong ngõ 12 Đào Tấn ô tô tránh có vỉa hè, ngõ thông nhiều phố, nhà cách ô tô đúng 20m, nhà vẫn còn rất mới, khách mua về là vào ở được ngay. + Nhà mới xây được mấy năm nhưng còn rất chắc chắn. Thiết kế nhà bê tông cốt thép chắc chắn, thiết kế hiện đại, nhà bao gồm: phòng khách, bếp, 04 phòng ngủ, phòng thờ, sân phơi + Sổ đỏ chính chủ, pháp lý rõ ràng, sẵn sang giao dịch + Giá 5.3 tỷ, có thương lượng cho khách có thiện trí Liên Hệ: Thanh Tùng BĐS Ba Đình: 0912142902, Quý khách gọi ngay để được tư vấn nhiệt tình và xem nhà miễn phí Cần Bán, ở ngay, ngõ thoáng, nhà còn mới, Ngõ thông, Đào Tấn, Ba Đình Liên hệ: 09121*** hiện số Loại tin rao Bán nhà riêng Pháp lý Sổ Hồng Số phòng 0 Đường vào 0 m Mặt tiền 0 m Số tầng 4 Số toilet 0 Thông tin liên hệ Tên liên hệ: Phan Thanh Tùng Loại tin: Môi giới Địa chỉ: Ba Đình Tỉnh thành Hà Nội Điện thoại: 0912142902 Email: thanhtungks68@gmail.com\"\"\"\n",
    "test_text = \"\"\"\n",
    "Loại tin Bán nhà riêng \n",
    "Tên liên hệ: Phan Thanh Tùng Tèo Tí\n",
    "Giá 4,7 Tỷ \n",
    "Diện tích 38 m² \n",
    "Số tầng 5 \n",
    "Số phòng 0 \n",
    "hôm nay \n",
    "0912142902 \n",
    "Mặt tiền 0 m\"\"\"\n",
    "doc = nlp(test_text)\n",
    "for ent in doc.ents:\n",
    "    print(\" > \", ent.label_, ent.text)\n"
   ]
  },
  {
   "cell_type": "code",
   "execution_count": 180,
   "id": "635d4c31",
   "metadata": {},
   "outputs": [
    {
     "name": "stdout",
     "output_type": "stream",
     "text": [
      "Model saved\n"
     ]
    }
   ],
   "source": [
    "\n",
    "nlp.to_disk(os.path.join(\"model_saved\", \"%s_%d_%d\"%(prefix_name,n_iter,n_data)))\n",
    "print(\"Model saved\")"
   ]
  },
  {
   "cell_type": "code",
   "execution_count": null,
   "id": "11aee5bf",
   "metadata": {},
   "outputs": [],
   "source": []
  },
  {
   "cell_type": "code",
   "execution_count": 63,
   "id": "e2069967",
   "metadata": {},
   "outputs": [
    {
     "ename": "NameError",
     "evalue": "name 'TRAIN_DATA' is not defined",
     "output_type": "error",
     "traceback": [
      "\u001b[1;31m---------------------------------------------------------------------------\u001b[0m",
      "\u001b[1;31mNameError\u001b[0m                                 Traceback (most recent call last)",
      "\u001b[1;32m<ipython-input-63-419893d01309>\u001b[0m in \u001b[0;36m<module>\u001b[1;34m\u001b[0m\n\u001b[0;32m     38\u001b[0m \u001b[1;33m\u001b[0m\u001b[0m\n\u001b[0;32m     39\u001b[0m \u001b[1;31m#run function and create a trained model\u001b[0m\u001b[1;33m\u001b[0m\u001b[1;33m\u001b[0m\u001b[1;33m\u001b[0m\u001b[0m\n\u001b[1;32m---> 40\u001b[1;33m \u001b[0mtrained_nlp\u001b[0m \u001b[1;33m=\u001b[0m \u001b[0mtrain_spacy\u001b[0m\u001b[1;33m(\u001b[0m\u001b[0mTRAIN_DATA\u001b[0m\u001b[1;33m,\u001b[0m \u001b[1;36m10\u001b[0m\u001b[1;33m)\u001b[0m\u001b[1;33m\u001b[0m\u001b[1;33m\u001b[0m\u001b[0m\n\u001b[0m",
      "\u001b[1;31mNameError\u001b[0m: name 'TRAIN_DATA' is not defined"
     ]
    }
   ],
   "source": [
    "import random\n",
    "\n",
    "def train_spacy(TRAIN_DATA, iterations):\n",
    "\n",
    "    #Create the blank spacy model\n",
    "    nlp = spacy.blank(\"en\")\n",
    "    \n",
    "    #add the ner component to the pipeline if it's not there\n",
    "    if \"ner\" not in nlp.pipe_names:\n",
    "        ner = nlp.create_pipe(\"ner\")\n",
    "        nlp.add_pipe(ner, last=True)\n",
    "    \n",
    "    #add all labels to the spaCy model\n",
    "    for _, annotations in TRAIN_DATA:\n",
    "        for ent in annotations.get(\"entities\"):\n",
    "            ner.add_label(ent[2])\n",
    "    \n",
    "    #eliminate the effect of the training on other pipes and \n",
    "    other_pipes = [pipe for pipe in nlp.pipe_names if pipe != \"ner\"]\n",
    "    \n",
    "    #begin training\n",
    "    with nlp.disable_pipes(*other_pipes):\n",
    "        optimizer = nlp.begin_training()\n",
    "        for itn in range(iterations):\n",
    "            print (\"Starting iteration \" + str(itn))\n",
    "            random.shuffle(TRAIN_DATA)\n",
    "            losses = {}\n",
    "            for text, annotations in TRAIN_DATA:\n",
    "                nlp.update(\n",
    "                            [text],\n",
    "                            [annotations],\n",
    "                            drop=0.2,\n",
    "                            sgd=optimizer,\n",
    "                            losses=losses\n",
    "                )\n",
    "            print\n",
    "    return (nlp)\n",
    "\n",
    "#run function and create a trained model\n",
    "trained_nlp = train_spacy(TRAIN_DATA, 10)"
   ]
  },
  {
   "cell_type": "code",
   "execution_count": 72,
   "id": "6b0e64c9",
   "metadata": {},
   "outputs": [
    {
     "name": "stderr",
     "output_type": "stream",
     "text": [
      " 21%|████████████████▋                                                              | 207/982 [00:00<00:01, 708.82it/s]"
     ]
    },
    {
     "name": "stdout",
     "output_type": "stream",
     "text": [
      "skip\n",
      "skip\n",
      "skip\n",
      "skip\n",
      "skip\n",
      "skip\n",
      "skip\n",
      "skip\n"
     ]
    },
    {
     "name": "stderr",
     "output_type": "stream",
     "text": [
      "100%|███████████████████████████████████████████████████████████████████████████████| 982/982 [00:01<00:00, 742.06it/s]\n",
      "100%|███████████████████████████████████████████████████████████████████████████████| 109/109 [00:00<00:00, 768.05it/s]\n"
     ]
    },
    {
     "name": "stdout",
     "output_type": "stream",
     "text": [
      "skip\n",
      "skip\n",
      "skip\n",
      "skip\n",
      "skip\n"
     ]
    }
   ],
   "source": [
    "nlp = spacy.blank(\"vi\")\n",
    "def create_spacy_data(data): \n",
    "    docbin = DocBin()\n",
    "    for text, annot in tqdm(data):\n",
    "        doc = nlp.make_doc(text)\n",
    "        ents = []\n",
    "        for start, end, label in annot[\"entities\"]:\n",
    "            span = doc.char_span(start, end, label=label, alignment_mode=\"contract\")\n",
    "            if span:\n",
    "                ents.append(span)\n",
    "            else:\n",
    "                print(\"skip\")\n",
    "        doc.ents = ents\n",
    "        docbin.add(doc)\n",
    "    return docbin\n",
    "split_point = int(len(SPACY_DATA)*0.9)\n",
    "train_data = create_spacy_data(SPACY_DATA[0:split_point])\n",
    "train_data.to_disk(\"./data/train_data.spacy\")\n",
    "valid_data = create_spacy_data(SPACY_DATA[split_point:-1])\n",
    "valid_data.to_disk(\"./data/valid_data.spacy\")"
   ]
  },
  {
   "cell_type": "code",
   "execution_count": null,
   "id": "66084628",
   "metadata": {},
   "outputs": [],
   "source": []
  }
 ],
 "metadata": {
  "kernelspec": {
   "display_name": "Python 3",
   "language": "python",
   "name": "python3"
  },
  "language_info": {
   "codemirror_mode": {
    "name": "ipython",
    "version": 3
   },
   "file_extension": ".py",
   "mimetype": "text/x-python",
   "name": "python",
   "nbconvert_exporter": "python",
   "pygments_lexer": "ipython3",
   "version": "3.8.8"
  }
 },
 "nbformat": 4,
 "nbformat_minor": 5
}
